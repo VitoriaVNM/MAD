{
  "nbformat": 4,
  "nbformat_minor": 0,
  "metadata": {
    "colab": {
      "provenance": []
    },
    "kernelspec": {
      "name": "python3",
      "display_name": "Python 3"
    },
    "language_info": {
      "name": "python"
    }
  },
  "cells": [
    {
      "cell_type": "markdown",
      "source": [
        "#Simulação de uma rede aberta de filas (MAD)\n",
        "##Descrição:\n",
        "O sistema é constituído por três servidores, S1, S2 e S3, cada qual dotado de uma fila ilimitada. Cada job, ao chegar no sistema, precisa ser primeiramente servido por S1. Após concluir o serviço em S1, o job segue com probabilidade 0.5 para o servidor S2, e com probabilidade 0.5 para o servidor S3. Um job que sai do servidor S2 tem probabilidade 0.2 de retornar ao servidor S2 (voltando ao final da fila de S2, se ela não estiver vazia) para receber um novo serviço, independentemente de quantas vezes já tenha passado por S2. Ao sair definitivamente de S2, o job sai do sistema. Da mesma forma, ao sair de S3 (deterministicamente), o job sai do sistema.\n",
        "As chegadas de jobs ao sistema constituem um processo de Poisson com taxa lambda = 2 jobs por segundo. Ou seja, o tempo entre as chegadas de dois jobs consecutivos é uma V.A. exponencial com média 1/lambda = 0.5 segundos (isto é, uma exponencial com taxa lambda).\n"
      ],
      "metadata": {
        "id": "PG1WiWlisAth"
      }
    },
    {
      "cell_type": "markdown",
      "source": [
        "###Primeiro passo: Modelagem do sistema\n",
        "![modelagem.png](data:image/png;base64,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)"
      ],
      "metadata": {
        "id": "StUBfMtMsnN4"
      }
    },
    {
      "cell_type": "markdown",
      "source": [
        "###Segundo passo: código"
      ],
      "metadata": {
        "id": "dA9xXjJQvC7g"
      }
    },
    {
      "cell_type": "code",
      "source": [
        "import random\n",
        "import heapq\n",
        "import statistics\n",
        "\n",
        "#parâmetros para o cálculo das chegadas\n",
        "total_jobs = 20000\n",
        "taxa_lambda = 2\n",
        "\n",
        "#filas\n",
        "f1 = []\n",
        "f2 = []\n",
        "f3 = []\n",
        "\n",
        "#controle de eventos\n",
        "eventos = []\n",
        "jobs_completos = 0\n",
        "\n",
        "#métricas\n",
        "tempos = {}\n",
        "\n",
        "#função das métricas\n",
        "def medidas(dict):\n",
        "  tempos_no_sistema = [saida - chegada for job_id, (chegada, saida) in tempos.items() if job_id >= total_jobs - 10000 and saida is not None]\n",
        "  media_tempo = statistics.mean(tempos_no_sistema)\n",
        "  desvio_padrao = statistics.stdev(tempos_no_sistema)\n",
        "\n",
        "  print(f\"Tempo médio no sistema: {media_tempo:.2f} segundos\")\n",
        "  print(f\"Desvio padrão do tempo no sistema: {desvio_padrao:.2f} segundos\")\n",
        "\n",
        "\n",
        "#função para cálculo do tempo de chegada absoluto\n",
        "def calc_chegadas(n_jobs, taxa):\n",
        "    intervalos = []\n",
        "\n",
        "    for i in range(n_jobs):\n",
        "      valor = random.expovariate(taxa)\n",
        "      intervalos.append(valor)\n",
        "\n",
        "    chegadas = [0] * n_jobs  #inicializa a lista com valores 0\n",
        "    chegadas[0] = intervalos[0]\n",
        "\n",
        "    for i in range(1, n_jobs):  #soma para os valores absolutos\n",
        "        chegadas[i] = chegadas[i - 1] + intervalos[i]\n",
        "\n",
        "    return chegadas\n",
        "\n",
        "#função dos tempos de serviço de acordo com cada situação\n",
        "def tempo_servico(situacao):\n",
        "    if situacao == 1:  #situação 1\n",
        "        return [0.4, 0.6, 0.95]\n",
        "\n",
        "    elif situacao == 2:  #situação 2\n",
        "        return [random.uniform(0.1, 0.7), random.uniform(0.1, 1.1), random.uniform(0.1,1.8)]\n",
        "    elif situacao == 3:  #situação 3\n",
        "        return [random.expovariate(0.4), random.expovariate(0.6), random.expovariate(0.95)]\n",
        "\n",
        "#função para controle dos eventos\n",
        "def controleEventos(tempo, tipo, job_id):\n",
        "    heapq.heappush(eventos, (tempo, tipo, job_id))\n",
        "\n",
        "#função dos servidores\n",
        "def servidor_1(tempo_atual, situacao):\n",
        "    job_atual = f1.pop(0)\n",
        "    servico = tempo_servico(situacao)\n",
        "\n",
        "    if random.random() < 0.5:\n",
        "        f2.append(job_atual)\n",
        "        controleEventos(tempo_atual + servico[0], \"servidor_2\", job_atual)\n",
        "    else:\n",
        "        f3.append(job_atual)\n",
        "        controleEventos(tempo_atual + servico[0], \"servidor_3\", job_atual)\n",
        "\n",
        "def servidor_2(tempo_atual, situacao):\n",
        "    job_atual = f2.pop(0)\n",
        "    servico = tempo_servico(situacao)\n",
        "\n",
        "    if random.random() < 0.2:\n",
        "        f2.append(job_atual)\n",
        "        controleEventos(tempo_atual + servico[1], \"servidor_2\", job_atual)\n",
        "    else:\n",
        "        global jobs_completos\n",
        "        jobs_completos += 1\n",
        "        tempos[job_atual][1] = tempo_atual + servico[1]  #registra tempo de saída\n",
        "\n",
        "def servidor_3(tempo_atual, situacao):\n",
        "    job_atual = f3.pop(0)\n",
        "    servico = tempo_servico(situacao)\n",
        "\n",
        "    global jobs_completos\n",
        "    jobs_completos += 1\n",
        "    tempos[job_atual][1] = tempo_atual + servico[2]  #registra tempo de saída\n",
        "\n",
        "# Simulação\n",
        "def simulacao(situacao):\n",
        "    global jobs_completos\n",
        "\n",
        "    #gera os tempos de chegada\n",
        "    chegadas = calc_chegadas(total_jobs, taxa_lambda)\n",
        "\n",
        "    #cria o primeiro evento de chegada\n",
        "    controleEventos(chegadas[0], \"chegou\", 0)\n",
        "\n",
        "    #controle da lista com os tempos de chegada\n",
        "    index = 1\n",
        "\n",
        "    #gera os tempos de serviço iniciais de acordo com a situação\n",
        "    #servico = tempo_servico(situacao)\n",
        "\n",
        "    #loop da simulação\n",
        "    while jobs_completos < total_jobs:\n",
        "        tempo_atual, tipo, job_id = heapq.heappop(eventos)\n",
        "\n",
        "        if tipo == \"chegou\":\n",
        "            tempos[job_id] = [tempo_atual, None]  #registra o tempo de chegada\n",
        "            f1.append(job_id)\n",
        "            if index < total_jobs: #enquanto tiver job pra chegar, gera um evento\n",
        "                controleEventos(chegadas[index], \"chegou\", index)\n",
        "                index += 1\n",
        "            controleEventos(tempo_atual, \"servidor_1\", job_id)\n",
        "\n",
        "        elif tipo == \"servidor_1\" and f1:\n",
        "            servidor_1(tempo_atual, situacao)\n",
        "\n",
        "        elif tipo == \"servidor_2\" and f2:\n",
        "            servidor_2(tempo_atual, situacao)\n",
        "\n",
        "        elif tipo == \"servidor_3\" and f3:\n",
        "            servidor_3(tempo_atual, situacao)\n",
        "\n",
        "    medidas(tempos)"
      ],
      "metadata": {
        "id": "TDo3wicTWHvS"
      },
      "execution_count": null,
      "outputs": []
    },
    {
      "cell_type": "markdown",
      "source": [
        "###Terceiro passo: simulando para cada situação\n",
        "- Situação 1: os tempos de serviço são fixos, determinísticos, e iguais a 0.4s, 0.6s e 0.95s, respectivamente.\n",
        "- Situação 2: os tempos de serviço nos três servidores são V.A.s uniformes nos intervalos (0.1, 0.7), (0.1, 1.1) e (0.1, 1.8), respectivamente.\n",
        "- Situação 3: os tempos de serviço são V.A.s exponenciais com médias 0.4s, 0.6s e 0.95s, respectivamente."
      ],
      "metadata": {
        "id": "JEuFaWyreV_h"
      }
    },
    {
      "cell_type": "code",
      "source": [
        "#1 = situação 1, tempos fixos\n",
        "#2 = situação 2, distribuição uniforme\n",
        "#3 = situação 3, distribuição exponencial\n",
        "\n",
        "simulacao(3)"
      ],
      "metadata": {
        "colab": {
          "base_uri": "https://localhost:8080/"
        },
        "id": "LFy_p5dhnZ_c",
        "outputId": "40552a19-da8a-49d2-997a-f8df9b39b8e8"
      },
      "execution_count": null,
      "outputs": [
        {
          "output_type": "stream",
          "name": "stdout",
          "text": [
            "Tempo médio no sistema: 4.08 segundos\n",
            "Desvio padrão do tempo no sistema: 2.19 segundos\n"
          ]
        }
      ]
    },
    {
      "cell_type": "markdown",
      "source": [
        "###Observações:\n",
        "O tempo médio de um job no sistema das situações 1 e 2 são semelhantes, porém o desvio padrão dos jobs com tempo de serviço variando em um intervalo de distribuição uniforme (situação 2) é praticamente o dobro da situação 1. Isso se deve pelo fato de que a distribuição uniforme introduz uma maior variabilidade nos tempos de serviço. Ainda sim, apesar da distribuição uniforme gera essa maior variabilidade, os tempos de serviço ainda estão relativamente próximos uns dos outros o que torna o tempo médio de um job em ambos os sistemas bastante semelhantes.\n",
        "\n",
        "Enquanto isso, na situação 3, o tempo médio no sistema é bem mais alto, assim como o desvio padrão. Isso ocorre porque a distribuição exponencial vai gerar tempos de serviços mais altos, aumentando a variabilidade de maneira não pré-definida como é no intervalo uniforme ou nos tempos fixos. Essa variabilidade introduzida pela variável exponencial acaba gerando filas mais longas."
      ],
      "metadata": {
        "id": "K3P9m7VnzH_D"
      }
    }
  ]
}
